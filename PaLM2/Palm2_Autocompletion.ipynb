{
  "nbformat": 4,
  "nbformat_minor": 0,
  "metadata": {
    "colab": {
      "provenance": [],
      "gpuType": "T4"
    },
    "kernelspec": {
      "name": "python3",
      "display_name": "Python 3"
    },
    "language_info": {
      "name": "python"
    },
    "accelerator": "GPU"
  },
  "cells": [
    {
      "cell_type": "code",
      "execution_count": 1,
      "metadata": {
        "colab": {
          "base_uri": "https://localhost:8080/"
        },
        "id": "e61KhvhvIRAG",
        "outputId": "c3bf6f3e-7578-44f3-d7fb-493fbfbf7df2"
      },
      "outputs": [
        {
          "output_type": "stream",
          "name": "stdout",
          "text": [
            "\u001b[?25l     \u001b[90m━━━━━━━━━━━━━━━━━━━━━━━━━━━━━━━━━━━━━━━━\u001b[0m \u001b[32m0.0/133.2 kB\u001b[0m \u001b[31m?\u001b[0m eta \u001b[36m-:--:--\u001b[0m\r\u001b[2K     \u001b[91m━━━━━━━━━━━━━━━━━━━━━━━━━━━━━━━━━━━━━━━\u001b[0m\u001b[91m╸\u001b[0m \u001b[32m133.1/133.2 kB\u001b[0m \u001b[31m4.3 MB/s\u001b[0m eta \u001b[36m0:00:01\u001b[0m\r\u001b[2K     \u001b[90m━━━━━━━━━━━━━━━━━━━━━━━━━━━━━━━━━━━━━━━━\u001b[0m \u001b[32m133.2/133.2 kB\u001b[0m \u001b[31m3.5 MB/s\u001b[0m eta \u001b[36m0:00:00\u001b[0m\n",
            "\u001b[?25h\u001b[?25l     \u001b[90m━━━━━━━━━━━━━━━━━━━━━━━━━━━━━━━━━━━━━━━━\u001b[0m \u001b[32m0.0/267.9 kB\u001b[0m \u001b[31m?\u001b[0m eta \u001b[36m-:--:--\u001b[0m\r\u001b[2K     \u001b[90m━━━━━━━━━━━━━━━━━━━━━━━━━━━━━━━━━━━━━━━━\u001b[0m \u001b[32m267.9/267.9 kB\u001b[0m \u001b[31m8.2 MB/s\u001b[0m eta \u001b[36m0:00:00\u001b[0m\n",
            "\u001b[?25h"
          ]
        }
      ],
      "source": [
        "!pip install -q google-generativeai"
      ]
    },
    {
      "cell_type": "code",
      "source": [
        "import pprint\n",
        "import google.generativeai as palm"
      ],
      "metadata": {
        "id": "Opt7fTjUIxe2"
      },
      "execution_count": 2,
      "outputs": []
    },
    {
      "cell_type": "code",
      "source": [
        "palm.configure(api_key='XXXX')"
      ],
      "metadata": {
        "id": "kixLtWd5IyoC"
      },
      "execution_count": 3,
      "outputs": []
    },
    {
      "cell_type": "code",
      "source": [
        "models = [m for m in palm.list_models() if 'generateText' in m.supported_generation_methods]\n",
        "model = models[0].name\n",
        "print(model)"
      ],
      "metadata": {
        "colab": {
          "base_uri": "https://localhost:8080/"
        },
        "id": "H8qxrDXCI17b",
        "outputId": "65d94634-405d-43cd-adc0-c6f84b144020"
      },
      "execution_count": 4,
      "outputs": [
        {
          "output_type": "stream",
          "name": "stdout",
          "text": [
            "models/text-bison-001\n"
          ]
        }
      ]
    },
    {
      "cell_type": "code",
      "source": [
        "prompt = \"\"\"\n",
        "Use the following piece of context to answer the question. Please provide a detailed response for each of the question.\n",
        "\n",
        "what is the difference between old and new tax regimes in India\n",
        "\"\"\"\n",
        "\n",
        "completion = palm.generate_text(\n",
        "    model=model,\n",
        "    prompt=prompt,\n",
        "    temperature=0,\n",
        "    # The maximum length of the response\n",
        "    max_output_tokens=800,\n",
        ")\n",
        "\n",
        "print(completion.result)"
      ],
      "metadata": {
        "colab": {
          "base_uri": "https://localhost:8080/"
        },
        "id": "TJ7va3-SI6wC",
        "outputId": "8ea37a5f-a0c2-4641-b9c2-cef82b5a15ce"
      },
      "execution_count": 5,
      "outputs": [
        {
          "output_type": "stream",
          "name": "stdout",
          "text": [
            "The old tax regime in India was based on the concept of slab taxation, which meant that taxpayers were taxed at different rates depending on their income. The new tax regime, which was introduced in 2020, is based on the concept of tax bands, which means that taxpayers are taxed at a single rate within a certain income range.\n",
            "\n",
            "The old tax regime had seven tax slabs, with rates ranging from 5% to 30%. The new tax regime has four tax bands, with rates ranging from 5% to 37%.\n",
            "\n",
            "The old tax regime had a number of exemptions and deductions, which could reduce a taxpayer's taxable income. The new tax regime has fewer exemptions and deductions, which means that more taxpayers will pay tax at the higher rates.\n",
            "\n",
            "The old tax regime was more complex than the new tax regime, and it was difficult for taxpayers to calculate their tax liability. The new tax regime is simpler, and it is easier for taxpayers to calculate their tax liability.\n",
            "\n",
            "Overall, the new tax regime is simpler and more progressive than the old tax regime. It is also more likely to raise revenue for the government.\n",
            "\n",
            "Here is a table that compares the old and new tax regimes in India:\n",
            "\n",
            "| Feature | Old Tax Regime | New Tax Regime |\n",
            "|---|---|---|\n",
            "| Number of tax slabs | 7 | 4 |\n",
            "| Tax rates | 5% to 30% | 5% to 37% |\n",
            "| Exemptions and deductions | Many | Fewer |\n",
            "| Complexity | Complex | Simple |\n",
            "| Progressiveness | Less progressive | More progressive |\n",
            "| Revenue | Less | More |\n"
          ]
        }
      ]
    },
    {
      "cell_type": "code",
      "source": [
        "prompt = \"\"\"\n",
        "Use the following piece of context to answer the question. Please provide a detailed response for each of the question.\n",
        "\n",
        "what is the standard deduction in both new and old tax regimes in India\n",
        "\"\"\"\n",
        "\n",
        "completion = palm.generate_text(\n",
        "    model=model,\n",
        "    prompt=prompt,\n",
        "    temperature=0,\n",
        "    # The maximum length of the response\n",
        "    max_output_tokens=800,\n",
        ")\n",
        "\n",
        "print(completion.result)"
      ],
      "metadata": {
        "colab": {
          "base_uri": "https://localhost:8080/"
        },
        "id": "p1F6dsPyJfGF",
        "outputId": "fa9a8262-38f1-4f03-f58c-75ca7c0ede16"
      },
      "execution_count": 6,
      "outputs": [
        {
          "output_type": "stream",
          "name": "stdout",
          "text": [
            "The standard deduction in the new tax regime in India is Rs. 50,000 for individuals and Rs. 1,50,000 for senior citizens. The standard deduction in the old tax regime is Rs. 40,000 for individuals and Rs. 60,000 for senior citizens.\n"
          ]
        }
      ]
    },
    {
      "cell_type": "code",
      "source": [
        "prompt = \"\"\"\n",
        "Use the following piece of context to answer the question. Please provide a detailed response for each of the question.\n",
        "\n",
        "assume a person earns 12 lakhs per annum. could you tell which tax plan will be beneficial: old or new tax regime in India\n",
        "\"\"\"\n",
        "\n",
        "completion = palm.generate_text(\n",
        "    model=model,\n",
        "    prompt=prompt,\n",
        "    temperature=0,\n",
        "    # The maximum length of the response\n",
        "    max_output_tokens=800,\n",
        ")\n",
        "\n",
        "print(completion.result)"
      ],
      "metadata": {
        "colab": {
          "base_uri": "https://localhost:8080/"
        },
        "id": "f6EEbKBIJzdK",
        "outputId": "8bb9a259-400c-4eb6-d628-856ab13e4046"
      },
      "execution_count": 8,
      "outputs": [
        {
          "output_type": "stream",
          "name": "stdout",
          "text": [
            "The old tax regime is more beneficial for a person who earns 12 lakhs per annum. Under the old tax regime, the person will pay a tax of 10% on the first 2.5 lakhs of income, 20% on the next 5 lakhs of income, and 30% on the income above 10 lakhs. This means that the person will pay a total tax of 12,500 + 1,00,000 + 3,00,000 = 4,12,500.\n",
            "\n",
            "Under the new tax regime, the person will pay a tax of 5% on the first 5 lakhs of income, 10% on the next 5 lakhs of income, and 15% on the income above 10 lakhs. This means that the person will pay a total tax of 2,500 + 50,000 + 1,50,000 = 2,25,000.\n",
            "\n",
            "Therefore, the old tax regime is more beneficial for a person who earns 12 lakhs per annum.\n"
          ]
        }
      ]
    },
    {
      "cell_type": "code",
      "source": [
        "prompt = \"\"\"\n",
        "Use the following piece of context to answer the question. Please provide a detailed response for each of the question.\n",
        "\n",
        "is HRA applicable in both old and new tax regime in India\n",
        "\"\"\"\n",
        "\n",
        "completion = palm.generate_text(\n",
        "    model=model,\n",
        "    prompt=prompt,\n",
        "    temperature=0,\n",
        "    # The maximum length of the response\n",
        "    max_output_tokens=800,\n",
        ")\n",
        "\n",
        "print(completion.result)"
      ],
      "metadata": {
        "colab": {
          "base_uri": "https://localhost:8080/"
        },
        "id": "gT-ddrG3Kbva",
        "outputId": "214a49fe-c513-42c1-8b1d-71fb91c2ad99"
      },
      "execution_count": 9,
      "outputs": [
        {
          "output_type": "stream",
          "name": "stdout",
          "text": [
            "Yes, HRA is applicable in both old and new tax regime in India.\n",
            "\n",
            "In the old tax regime, HRA is a tax-deductible expense. In the new tax regime, HRA is a tax-free allowance. However, the amount of HRA that can be claimed as a tax deduction or tax-free allowance is different in the two regimes.\n",
            "\n",
            "In the old tax regime, the maximum amount of HRA that can be claimed as a tax deduction is 50% of the employee's salary, up to a maximum of Rs. 50,000 per month. In the new tax regime, the maximum amount of HRA that can be claimed as a tax-free allowance is Rs. 50,000 per month.\n",
            "\n",
            "In addition, the tax treatment of HRA is different for salaried employees and self-employed individuals. For salaried employees, HRA is treated as a part of their salary and is taxed accordingly. For self-employed individuals, HRA is treated as a business expense and is not taxed.\n",
            "\n",
            "Here is a table that summarizes the tax treatment of HRA in the old and new tax regimes:\n",
            "\n",
            "| Tax Regime | Type of Employee | Maximum Amount of HRA | Tax Treatment |\n",
            "|---|---|---|---|\n",
            "| Old | Salaried | 50% of salary, up to Rs. 50,000 per month | Tax-deductible expense |\n",
            "| New | Salaried | Rs. 50,000 per month | Tax-free allowance |\n",
            "| Old | Self-employed | 50% of salary, up to Rs. 50,000 per month | Tax-deductible expense |\n",
            "| New | Self-employed | Rs. 50,000 per month | Tax-free allowance |\n"
          ]
        }
      ]
    }
  ]
}